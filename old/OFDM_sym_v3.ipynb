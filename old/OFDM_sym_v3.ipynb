{
  "nbformat": 4,
  "nbformat_minor": 0,
  "metadata": {
    "colab": {
      "provenance": []
    },
    "kernelspec": {
      "name": "python3",
      "display_name": "Python 3"
    },
    "language_info": {
      "name": "python"
    }
  },
  "cells": [
    {
      "cell_type": "code",
      "source": [
        "import numpy as np"
      ],
      "metadata": {
        "id": "6VfJpVgaW0VQ"
      },
      "execution_count": 1,
      "outputs": []
    },
    {
      "cell_type": "code",
      "source": [
        "# fixed functions\n",
        "mapping_table = {\n",
        "    # codigo de grey\n",
        "    (0,0,0,0) : -3-3j,\n",
        "    (0,0,0,1) : -3-1j,\n",
        "    (0,0,1,0) : -3+3j,\n",
        "    (0,0,1,1) : -3+1j,\n",
        "    (0,1,0,0) : -1-3j,\n",
        "    (0,1,0,1) : -1-1j,\n",
        "    (0,1,1,0) : -1+3j,\n",
        "    (0,1,1,1) : -1+1j,\n",
        "    (1,0,0,0) :  3-3j,\n",
        "    (1,0,0,1) :  3-1j,\n",
        "    (1,0,1,0) :  3+3j,\n",
        "    (1,0,1,1) :  3+1j,\n",
        "    (1,1,0,0) :  1-3j,\n",
        "    (1,1,0,1) :  1-1j,\n",
        "    (1,1,1,0) :  1+3j,\n",
        "    (1,1,1,1) :  1+1j\n",
        "    }\n",
        "\n",
        "def QAM_mod(bits):\n",
        "    return np.array([mapping_table[tuple(b)] for b in bits])\n",
        "\n",
        "def QAM_demod(symbols):\n",
        "    demapping_table = {v : k for k, v in mapping_table.items()}\n",
        "    # array of possible constellation points\n",
        "    constellation = np.array([x for x in demapping_table.keys()])\n",
        "\n",
        "    # calculate distance of each RX point to each possible point\n",
        "    dists = abs(symbols.reshape((-1,1)) - constellation.reshape((1,-1)))\n",
        "\n",
        "    # for each element in QAM, choose the index in constellation\n",
        "    # that belongs to the nearest constellation point\n",
        "    const_index = dists.argmin(axis=1)\n",
        "\n",
        "    # get back the real constellation point\n",
        "    hardDecision = constellation[const_index]\n",
        "\n",
        "    # transform the constellation point into the bit groups\n",
        "    return np.vstack([demapping_table[C] for C in hardDecision])#, hardDecision\n",
        "\n",
        "def IDFT(OFDM_data):\n",
        "    return np.fft.ifft(OFDM_data)\n",
        "\n",
        "def addCP(OFDM_time):\n",
        "    cp = OFDM_time[-CP:]               # take the last CP samples ...\n",
        "    return np.hstack([cp, OFDM_time])  # ... and add them to the beginning\n",
        "\n",
        "def removeCP(signal):\n",
        "    return signal[CP:]\n",
        "\n",
        "# Función para simular la transmisión por el canal\n",
        "def simulate_channel_transmission(data_sequence, channel_response, SNR_dB=-1):\n",
        "    # Aplicar la respuesta al impulso del canal mediante la convolución\n",
        "    transmitted_signal = np.convolve(data_sequence, channel_response, mode='same')\n",
        "\n",
        "    if SNR_dB == -1:\n",
        "      return transmitted_signal\n",
        "\n",
        "    # Calcular la potencia de la señal transmitida\n",
        "    signal_power = np.mean(np.abs(transmitted_signal) ** 2)\n",
        "\n",
        "    # Calcular la potencia del ruido a partir de la relación señal a ruido (SNR)\n",
        "    noise_power = signal_power / (10 ** (SNR_dB / 10))\n",
        "\n",
        "    # Generar ruido gaussiano con la potencia calculada\n",
        "    noise = np.random.normal(0, np.sqrt(noise_power), len(transmitted_signal))\n",
        "\n",
        "    # Agregar ruido a la señal transmitida\n",
        "    received_signal = transmitted_signal + noise\n",
        "\n",
        "    return received_signal\n",
        "\n",
        "def response_rayleigh_channel(symbol_matrix, fading_param = 0.5 + 0.5j):\n",
        "    # Generar muestras de canal Rayleigh\n",
        "    channel_gain = np.sqrt(0.5) * (np.random.randn(*symbol_matrix.shape) + 1j * np.random.randn(*symbol_matrix.shape))\n",
        "\n",
        "    # Aplicar desvanecimiento temporal a cada subportadora\n",
        "    faded_symbols = symbol_matrix * channel_gain * fading_param\n",
        "\n",
        "    return faded_symbols\n",
        "\n",
        "def add_noise(signal, SNR_db):\n",
        "    # Calcular la potencia de la señal transmitida\n",
        "    signal_power = np.mean(np.abs(faded_symbols) ** 2)\n",
        "\n",
        "    # Calcular la potencia del ruido a partir de la relación señal a ruido (SNR)\n",
        "    noise_power = signal_power / (10 ** (SNR_dB / 10))\n",
        "\n",
        "    # Generar ruido gaussiano con la potencia calculada\n",
        "    noise = np.random.normal(0, np.sqrt(noise_power), len(signal))\n",
        "\n",
        "    # Agregar ruido a la señal transmitida\n",
        "    noise_signal = signal + noise\n",
        "\n",
        "    return noise_signal\n",
        "\n",
        "def simulate_rayleigh_channel_transmission(data_sequence, SNR_db = -1):\n",
        "  received_signal = response_rayleigh_channel(data_sequence)\n",
        "  if SNR_db == -1:\n",
        "    return received_signal\n",
        "  return add_noise(received_signal, SNR_db)\n"
      ],
      "metadata": {
        "id": "FW0tbxQrWzMA"
      },
      "execution_count": 2,
      "outputs": []
    },
    {
      "cell_type": "code",
      "source": [
        "# in progress functions\n",
        "def channel_estimate_block(received_signal, pilot_value_mod, method = None):\n",
        "  if method == 'LS': ## revisar, no dan las dimensiones. devuelve los factores para una linea recta no para cada portadora\n",
        "    return np.linalg.lstsq(np.vstack((pilot_value_mod.real, pilot_value_mod.imag)).T, received_signal, rcond=None)[0]\n",
        "  if method == 'MMSE': ## revisar, no secomo elegir la varianza de ruido y los resultados dan muy errados\n",
        "    noise_cov = 0.000001 * np.identity(len(received_signal))\n",
        "    channel_cov = np.outer(pilot_value_mod.conj(), pilot_value_mod)\n",
        "    mmse_gain = np.linalg.pinv(channel_cov + noise_cov) @ pilot_value_mod.conj()\n",
        "    return received_signal * mmse_gain\n",
        "  if method == None:\n",
        "    return received_signal / pilot_value_mod"
      ],
      "metadata": {
        "id": "cTmcp_M_ZLbR"
      },
      "execution_count": 3,
      "outputs": []
    },
    {
      "cell_type": "code",
      "execution_count": 4,
      "metadata": {
        "id": "33K_Wv7cUmzS"
      },
      "outputs": [],
      "source": [
        "N = 128 # numero de subportadoras\n",
        "P = 8 # cantidad de pilotos por bloque\n",
        "S = 1000 # cantidad de simbolos totales a transmitir (incluyendo pilotos)\n",
        "bps = 4 # bits por simbolo | modulacion 16-QAM por portadora\n",
        "pilot_value = 1 # valor de los pilotos\n",
        "CP = N // 4 # prefijo ciclico\n",
        "\n",
        "# Para siempre generar los mimsos numeros aleatorios y tener repetibilidad\n",
        "np.random.seed(123)"
      ]
    },
    {
      "cell_type": "code",
      "source": [
        "# bloque\n",
        "\n",
        "# genero los S simbolos, combinados con pilotos, donde cada P simbolos con datos se envia un simbolo con solo informacion de pilotos\n",
        "\n",
        "all_symbols = list(range(S))\n",
        "pilot_symbols = list(range(0, S, P))\n",
        "data_symbols = np.delete(all_symbols, pilot_symbols)\n",
        "all_symbols = np.empty(len(all_symbols), dtype=object)\n",
        "pilot_symbol = np.ones(N*bps, dtype = int) * pilot_value\n",
        "for i in pilot_symbols:\n",
        "  all_symbols[i] = pilot_symbol\n",
        "for i in data_symbols:\n",
        "  all_symbols[i] = np.random.randint(2, size=N*bps)\n",
        "\n",
        "# transmito los S simbolos por el canal de rayleigh\n",
        "\n",
        "transmitted_signals = np.array([addCP(np.fft.ifft(QAM_mod(symbol.reshape(-1, bps)))) for symbol in all_symbols])\n",
        "#received_signals = simulate_rayleigh_channel_transmission(transmitted_signals)\n",
        "received_signals = [simulate_channel_transmission(transmitted_signal, [1], -1) for transmitted_signal in transmitted_signals]\n",
        "\n",
        "# recupero simbolos de la señal recibida\n",
        "received_symbols = [np.fft.fft(removeCP(signal)) for signal in received_signals]\n",
        "\n",
        "\n",
        "# proceso señal recibida, estimo el canal y extraigo los bits enviados\n",
        "est_symbols = []\n",
        "pilot_value_mod = QAM_mod(all_symbols[0].reshape(-1,bps))\n",
        "\n",
        "for i in range(len(received_symbols)):\n",
        "  if i in pilot_symbols:\n",
        "    ## estimate channel\n",
        "    #H_est = channel_estimate_block(received_symbols, pilot_value_mod)\n",
        "    H_est = np.fft.fft([1], N)\n",
        "    equalized_symbol = received_symbols[i] / H_est\n",
        "    est_symbols.append(QAM_demod(equalized_symbol).reshape(-1,))\n",
        "  if i in data_symbols:\n",
        "    equalized_symbol = received_symbols[i] / H_est\n",
        "    est_symbols.append(QAM_demod(equalized_symbol).reshape(-1,))\n",
        "\n",
        "est_symbols = np.array(est_symbols)\n",
        "\n",
        "# calculo error entre los bits enviados y recibidos\n",
        "errors = 0\n",
        "for i in range(S):\n",
        "  if i not in pilot_symbols:\n",
        "    bits = all_symbols[i]\n",
        "    est_bits = est_symbols[i]\n",
        "    errors += np.sum(abs(bits-est_bits))\n",
        "BER = errors / (len(data_symbols) * N * bps)\n"
      ],
      "metadata": {
        "id": "zvjNtRtQ0OFL"
      },
      "execution_count": 5,
      "outputs": []
    },
    {
      "cell_type": "code",
      "source": [
        "### tests channel estimate"
      ],
      "metadata": {
        "id": "64t79CxfRhrr"
      },
      "execution_count": 6,
      "outputs": []
    },
    {
      "cell_type": "code",
      "source": [
        "H_est_none = channel_estimate_block(received_symbols[0], pilot_value_mod)\n",
        "H_est_ls = channel_estimate_block(received_symbols[0], pilot_value_mod, 'LS')\n",
        "H_est_mmse = channel_estimate_block(received_symbols[0], pilot_value_mod, 'MMSE')"
      ],
      "metadata": {
        "id": "w-q4o7gFS2JZ"
      },
      "execution_count": 7,
      "outputs": []
    },
    {
      "cell_type": "code",
      "source": [
        "H_est = np.fft.fft([1], N)"
      ],
      "metadata": {
        "id": "OpHxqXJhTCkQ"
      },
      "execution_count": 8,
      "outputs": []
    },
    {
      "cell_type": "code",
      "source": [
        "H_est_ls"
      ],
      "metadata": {
        "colab": {
          "base_uri": "https://localhost:8080/"
        },
        "id": "qjFFRJ9eJdkM",
        "outputId": "94430225-972d-4c61-97f8-a6cb593d9f6a"
      },
      "execution_count": 9,
      "outputs": [
        {
          "output_type": "execute_result",
          "data": {
            "text/plain": [
              "array([0.5+0.5j, 0.5+0.5j])"
            ]
          },
          "metadata": {},
          "execution_count": 9
        }
      ]
    },
    {
      "cell_type": "code",
      "source": [],
      "metadata": {
        "id": "CMXfcVghYu4T"
      },
      "execution_count": 9,
      "outputs": []
    },
    {
      "cell_type": "code",
      "source": [
        "### aux para cuando toque hacer peine\n",
        "\n",
        "parallel_bits = bits.reshape(-1, bps) # paralelizo datos para mandarlos por subportadoras\n",
        "mod = QAM_mod(parallel_bits) # modulo cada subportadora con 16 QAM\n",
        "\n",
        "# channel_response = np.random.normal(0, 1, 10)   # Respuesta al impulso del canal (ejemplo aleatorio)\n",
        "\n",
        "# bloque\n",
        "\n",
        "# combino los datos a transmitir con los pilotos, completando los simbolos totales a transmitir\n",
        "all_carriers = list(range(S*N))\n",
        "pilot_carriers = list(range(0, S*N, P))\n",
        "data_carriers = np.delete(all_carriers, pilot_carriers)\n",
        "transmitted_symbols = np.empty(len(all_carriers), dtype=complex)\n",
        "\n",
        "transmitted_symbols[pilot_carriers] = pilot_value\n",
        "\n",
        "mod_index = 0\n",
        "for i in range(S):\n",
        "    if i not in pilot_carriers:\n",
        "        transmitted_symbols[i] = mod[mod_index]\n",
        "        mod_index += 1"
      ],
      "metadata": {
        "id": "BusgPNm8v9p3",
        "colab": {
          "base_uri": "https://localhost:8080/",
          "height": 193
        },
        "outputId": "ffdc9b81-e08a-4aa0-e94d-de9a9f8c2046"
      },
      "execution_count": 10,
      "outputs": [
        {
          "output_type": "error",
          "ename": "IndexError",
          "evalue": "index 128 is out of bounds for axis 0 with size 128",
          "traceback": [
            "\u001b[0;31m---------------------------------------------------------------------------\u001b[0m",
            "\u001b[0;31mIndexError\u001b[0m                                Traceback (most recent call last)",
            "\u001b[0;32m<ipython-input-10-ff6e4f35da27>\u001b[0m in \u001b[0;36m<cell line: 19>\u001b[0;34m()\u001b[0m\n\u001b[1;32m     19\u001b[0m \u001b[0;32mfor\u001b[0m \u001b[0mi\u001b[0m \u001b[0;32min\u001b[0m \u001b[0mrange\u001b[0m\u001b[0;34m(\u001b[0m\u001b[0mS\u001b[0m\u001b[0;34m)\u001b[0m\u001b[0;34m:\u001b[0m\u001b[0;34m\u001b[0m\u001b[0;34m\u001b[0m\u001b[0m\n\u001b[1;32m     20\u001b[0m     \u001b[0;32mif\u001b[0m \u001b[0mi\u001b[0m \u001b[0;32mnot\u001b[0m \u001b[0;32min\u001b[0m \u001b[0mpilot_carriers\u001b[0m\u001b[0;34m:\u001b[0m\u001b[0;34m\u001b[0m\u001b[0;34m\u001b[0m\u001b[0m\n\u001b[0;32m---> 21\u001b[0;31m         \u001b[0mtransmitted_symbols\u001b[0m\u001b[0;34m[\u001b[0m\u001b[0mi\u001b[0m\u001b[0;34m]\u001b[0m \u001b[0;34m=\u001b[0m \u001b[0mmod\u001b[0m\u001b[0;34m[\u001b[0m\u001b[0mmod_index\u001b[0m\u001b[0;34m]\u001b[0m\u001b[0;34m\u001b[0m\u001b[0;34m\u001b[0m\u001b[0m\n\u001b[0m\u001b[1;32m     22\u001b[0m         \u001b[0mmod_index\u001b[0m \u001b[0;34m+=\u001b[0m \u001b[0;36m1\u001b[0m\u001b[0;34m\u001b[0m\u001b[0;34m\u001b[0m\u001b[0m\n",
            "\u001b[0;31mIndexError\u001b[0m: index 128 is out of bounds for axis 0 with size 128"
          ]
        }
      ]
    },
    {
      "cell_type": "code",
      "source": [],
      "metadata": {
        "id": "Snfl_LPR4YJ3"
      },
      "execution_count": null,
      "outputs": []
    }
  ]
}